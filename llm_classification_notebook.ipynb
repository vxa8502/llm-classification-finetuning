{
 "cells": [
  {
   "cell_type": "markdown",
   "id": "f6671de6",
   "metadata": {
    "papermill": {
     "duration": 0.006862,
     "end_time": "2025-06-02T12:25:37.362831",
     "exception": false,
     "start_time": "2025-06-02T12:25:37.355969",
     "status": "completed"
    },
    "tags": []
   },
   "source": [
    "## Import Libraries"
   ]
  },
  {
   "cell_type": "code",
   "execution_count": 1,
   "id": "add5893b",
   "metadata": {
    "_cell_guid": "1db3d0fe-532c-4adf-985a-e5176bf86b4b",
    "_uuid": "de16cfb0-cebc-4472-ab43-1a6c0cce3b63",
    "collapsed": false,
    "execution": {
     "iopub.execute_input": "2025-06-02T12:25:37.376149Z",
     "iopub.status.busy": "2025-06-02T12:25:37.375578Z",
     "iopub.status.idle": "2025-06-02T12:25:54.666219Z",
     "shell.execute_reply": "2025-06-02T12:25:54.665393Z"
    },
    "jupyter": {
     "outputs_hidden": false
    },
    "papermill": {
     "duration": 17.298833,
     "end_time": "2025-06-02T12:25:54.667769",
     "exception": false,
     "start_time": "2025-06-02T12:25:37.368936",
     "status": "completed"
    },
    "tags": []
   },
   "outputs": [
    {
     "name": "stderr",
     "output_type": "stream",
     "text": [
      "2025-06-02 12:25:45.622304: E external/local_xla/xla/stream_executor/cuda/cuda_fft.cc:477] Unable to register cuFFT factory: Attempting to register factory for plugin cuFFT when one has already been registered\n",
      "WARNING: All log messages before absl::InitializeLog() is called are written to STDERR\n",
      "E0000 00:00:1748867145.814235      19 cuda_dnn.cc:8310] Unable to register cuDNN factory: Attempting to register factory for plugin cuDNN when one has already been registered\n",
      "E0000 00:00:1748867145.868340      19 cuda_blas.cc:1418] Unable to register cuBLAS factory: Attempting to register factory for plugin cuBLAS when one has already been registered\n"
     ]
    }
   ],
   "source": [
    "import os\n",
    "import gc\n",
    "\n",
    "# Configure JAX backend for Keras (better memory management and performance)\n",
    "os.environ[\"KERAS_BACKEND\"] = \"jax\"\n",
    "# Disable strict convolution algorithm picker to avoid potential GPU issues\n",
    "os.environ[\"XLA_FLAGS\"] = \"--xla_gpu_strict_conv_algorithm_picker=false\"\n",
    "\n",
    "import keras_nlp\n",
    "import keras\n",
    "import tensorflow as tf\n",
    "import numpy as np \n",
    "import pandas as pd\n",
    "import matplotlib.pyplot as plt\n",
    "from sklearn.model_selection import train_test_split\n",
    "from keras.metrics import Precision, Recall"
   ]
  },
  {
   "cell_type": "markdown",
   "id": "7abbd413",
   "metadata": {
    "papermill": {
     "duration": 0.00573,
     "end_time": "2025-06-02T12:25:54.679897",
     "exception": false,
     "start_time": "2025-06-02T12:25:54.674167",
     "status": "completed"
    },
    "tags": []
   },
   "source": [
    "### Library Version"
   ]
  },
  {
   "cell_type": "code",
   "execution_count": 2,
   "id": "0d43b910",
   "metadata": {
    "_cell_guid": "9e4544f2-10b0-4091-bff3-50bfc021925c",
    "_uuid": "60e346e7-1872-450d-8a4e-b9c56fd60b30",
    "collapsed": false,
    "execution": {
     "iopub.execute_input": "2025-06-02T12:25:54.693372Z",
     "iopub.status.busy": "2025-06-02T12:25:54.692584Z",
     "iopub.status.idle": "2025-06-02T12:25:54.697274Z",
     "shell.execute_reply": "2025-06-02T12:25:54.696500Z"
    },
    "jupyter": {
     "outputs_hidden": false
    },
    "papermill": {
     "duration": 0.012682,
     "end_time": "2025-06-02T12:25:54.698362",
     "exception": false,
     "start_time": "2025-06-02T12:25:54.685680",
     "status": "completed"
    },
    "tags": []
   },
   "outputs": [
    {
     "name": "stdout",
     "output_type": "stream",
     "text": [
      "TensorFlow: 2.18.0\n",
      "Keras: 3.8.0\n",
      "KerasNLP: 0.18.1\n"
     ]
    }
   ],
   "source": [
    "# Version Check\n",
    "print(\"TensorFlow:\", tf.__version__)\n",
    "print(\"Keras:\", keras.__version__)\n",
    "print(\"KerasNLP:\", keras_nlp.__version__)"
   ]
  },
  {
   "cell_type": "markdown",
   "id": "01ad39b6",
   "metadata": {
    "papermill": {
     "duration": 0.006012,
     "end_time": "2025-06-02T12:25:54.710158",
     "exception": false,
     "start_time": "2025-06-02T12:25:54.704146",
     "status": "completed"
    },
    "tags": []
   },
   "source": [
    "## Configuration"
   ]
  },
  {
   "cell_type": "code",
   "execution_count": 3,
   "id": "a33e387e",
   "metadata": {
    "_cell_guid": "20276ddb-ec04-42ae-8314-bcf87aada882",
    "_uuid": "782aebfc-4527-4bd4-8372-0ff8e35e135e",
    "collapsed": false,
    "execution": {
     "iopub.execute_input": "2025-06-02T12:25:54.723133Z",
     "iopub.status.busy": "2025-06-02T12:25:54.722410Z",
     "iopub.status.idle": "2025-06-02T12:25:54.727330Z",
     "shell.execute_reply": "2025-06-02T12:25:54.726774Z"
    },
    "jupyter": {
     "outputs_hidden": false
    },
    "papermill": {
     "duration": 0.01247,
     "end_time": "2025-06-02T12:25:54.728442",
     "exception": false,
     "start_time": "2025-06-02T12:25:54.715972",
     "status": "completed"
    },
    "tags": []
   },
   "outputs": [],
   "source": [
    "# Centralized configuration makes hyperparameter tuning easier\n",
    "\n",
    "class CFG:\n",
    "    seed = 42  # For reproducibility across runs\n",
    "    \n",
    "    # Model Selection: DeBERTa-v3 Extra Small for efficiency\n",
    "    # Trade-off between model capacity and computational requirements\n",
    "    preset = \"deberta_v3_extra_small_en\"  \n",
    "    \n",
    "    # Sequence length: 512 tokens should capture most prompt+response pairs\n",
    "    max_seq_length = 512\n",
    "    \n",
    "    # Training parameters optimized for memory constraints\n",
    "    epochs = 3  # Quick training for competition timeline\n",
    "    batch_size = 8  # Reduced to prevent OOM errors\n",
    "    gradient_accumulation_steps = 2  # Maintain effective batch size of 16\n",
    "    \n",
    "    scheduler = 'cosine'  # Cosine annealing for better convergence\n",
    "    \n",
    "    # Label mappings for the three-class classification problem\n",
    "    label2name = {0: 'winner_model_a', 1: 'winner_model_b', 2: 'winner_tie'}\n",
    "    name2label = {v:k for k, v in label2name.items()}\n",
    "    class_labels = list(label2name.keys())\n",
    "    class_names = list(label2name.values())"
   ]
  },
  {
   "cell_type": "code",
   "execution_count": 4,
   "id": "35cbac85",
   "metadata": {
    "_cell_guid": "8c0a9f8f-5e53-470c-a4a7-5bcf943ef09f",
    "_uuid": "28bfe254-f7c2-4ae5-b8f4-f474eb766cb0",
    "collapsed": false,
    "execution": {
     "iopub.execute_input": "2025-06-02T12:25:54.740850Z",
     "iopub.status.busy": "2025-06-02T12:25:54.740439Z",
     "iopub.status.idle": "2025-06-02T12:25:55.455128Z",
     "shell.execute_reply": "2025-06-02T12:25:55.454387Z"
    },
    "jupyter": {
     "outputs_hidden": false
    },
    "papermill": {
     "duration": 0.722118,
     "end_time": "2025-06-02T12:25:55.456334",
     "exception": false,
     "start_time": "2025-06-02T12:25:54.734216",
     "status": "completed"
    },
    "tags": []
   },
   "outputs": [
    {
     "data": {
      "text/plain": [
       "0"
      ]
     },
     "execution_count": 4,
     "metadata": {},
     "output_type": "execute_result"
    }
   ],
   "source": [
    "# Critical for preventing OOM errors during training\n",
    "\n",
    "# Clear any existing Keras/TF sessions\n",
    "keras.backend.clear_session()\n",
    "tf.keras.backend.clear_session()\n",
    "gc.collect()  # Force garbage collection"
   ]
  },
  {
   "cell_type": "code",
   "execution_count": 5,
   "id": "3b053df4",
   "metadata": {
    "_cell_guid": "81061f44-b4c6-494e-b1cc-549815889e75",
    "_uuid": "42c42066-334b-4887-b28c-039ff126476c",
    "collapsed": false,
    "execution": {
     "iopub.execute_input": "2025-06-02T12:25:55.469279Z",
     "iopub.status.busy": "2025-06-02T12:25:55.469053Z",
     "iopub.status.idle": "2025-06-02T12:25:55.473544Z",
     "shell.execute_reply": "2025-06-02T12:25:55.472844Z"
    },
    "jupyter": {
     "outputs_hidden": false
    },
    "papermill": {
     "duration": 0.011937,
     "end_time": "2025-06-02T12:25:55.474532",
     "exception": false,
     "start_time": "2025-06-02T12:25:55.462595",
     "status": "completed"
    },
    "tags": []
   },
   "outputs": [
    {
     "name": "stdout",
     "output_type": "stream",
     "text": [
      "Running on CPU/GPU\n"
     ]
    }
   ],
   "source": [
    "strategy = tf.distribute.get_strategy()\n",
    "print(\"Running on CPU/GPU\")"
   ]
  },
  {
   "cell_type": "markdown",
   "id": "db4a26a8",
   "metadata": {
    "papermill": {
     "duration": 0.005761,
     "end_time": "2025-06-02T12:25:55.486257",
     "exception": false,
     "start_time": "2025-06-02T12:25:55.480496",
     "status": "completed"
    },
    "tags": []
   },
   "source": [
    "## Reproducibility"
   ]
  },
  {
   "cell_type": "code",
   "execution_count": 6,
   "id": "841f052f",
   "metadata": {
    "_cell_guid": "3e924faa-6bf0-497f-b046-894444efa613",
    "_uuid": "93878cf1-74e1-4dab-82ee-cfb7598fb126",
    "collapsed": false,
    "execution": {
     "iopub.execute_input": "2025-06-02T12:25:55.499044Z",
     "iopub.status.busy": "2025-06-02T12:25:55.498601Z",
     "iopub.status.idle": "2025-06-02T12:25:55.501900Z",
     "shell.execute_reply": "2025-06-02T12:25:55.501408Z"
    },
    "jupyter": {
     "outputs_hidden": false
    },
    "papermill": {
     "duration": 0.01091,
     "end_time": "2025-06-02T12:25:55.502952",
     "exception": false,
     "start_time": "2025-06-02T12:25:55.492042",
     "status": "completed"
    },
    "tags": []
   },
   "outputs": [],
   "source": [
    "# Reproducibility Setup\n",
    "keras.utils.set_random_seed(CFG.seed)\n",
    "# Ensures consistent results across runs for fair comparison"
   ]
  },
  {
   "cell_type": "markdown",
   "id": "39de6f1d",
   "metadata": {
    "papermill": {
     "duration": 0.00557,
     "end_time": "2025-06-02T12:25:55.514315",
     "exception": false,
     "start_time": "2025-06-02T12:25:55.508745",
     "status": "completed"
    },
    "tags": []
   },
   "source": [
    "## Mixed Precision"
   ]
  },
  {
   "cell_type": "code",
   "execution_count": 7,
   "id": "44c4aef3",
   "metadata": {
    "_cell_guid": "35209079-5a17-4b64-a9ec-e4c7a9145d6d",
    "_uuid": "883570ea-78fc-47a8-8cd6-304fb8e58530",
    "collapsed": false,
    "execution": {
     "iopub.execute_input": "2025-06-02T12:25:55.526529Z",
     "iopub.status.busy": "2025-06-02T12:25:55.526352Z",
     "iopub.status.idle": "2025-06-02T12:25:55.529718Z",
     "shell.execute_reply": "2025-06-02T12:25:55.529023Z"
    },
    "jupyter": {
     "outputs_hidden": false
    },
    "papermill": {
     "duration": 0.010699,
     "end_time": "2025-06-02T12:25:55.530716",
     "exception": false,
     "start_time": "2025-06-02T12:25:55.520017",
     "status": "completed"
    },
    "tags": []
   },
   "outputs": [],
   "source": [
    "# Use mixed precision to reduce memory usage and speed up training\n",
    "# FP16 for forward pass, FP32 for loss computation\n",
    "keras.mixed_precision.set_global_policy(\"mixed_float16\")"
   ]
  },
  {
   "cell_type": "markdown",
   "id": "e6d7d8c8",
   "metadata": {
    "papermill": {
     "duration": 0.00568,
     "end_time": "2025-06-02T12:25:55.542201",
     "exception": false,
     "start_time": "2025-06-02T12:25:55.536521",
     "status": "completed"
    },
    "tags": []
   },
   "source": [
    "## Dataset Path"
   ]
  },
  {
   "cell_type": "code",
   "execution_count": 8,
   "id": "30cac3fe",
   "metadata": {
    "_cell_guid": "e51b9141-59b4-493d-8350-c1314c96370f",
    "_uuid": "3c2ba930-1d48-4465-befd-bcc2decaac1f",
    "collapsed": false,
    "execution": {
     "iopub.execute_input": "2025-06-02T12:25:55.554613Z",
     "iopub.status.busy": "2025-06-02T12:25:55.554428Z",
     "iopub.status.idle": "2025-06-02T12:25:55.557341Z",
     "shell.execute_reply": "2025-06-02T12:25:55.556835Z"
    },
    "jupyter": {
     "outputs_hidden": false
    },
    "papermill": {
     "duration": 0.010264,
     "end_time": "2025-06-02T12:25:55.558388",
     "exception": false,
     "start_time": "2025-06-02T12:25:55.548124",
     "status": "completed"
    },
    "tags": []
   },
   "outputs": [],
   "source": [
    "# Data Path Configuration\n",
    "BASE_PATH = '/kaggle/input/llm-classification-finetuning'"
   ]
  },
  {
   "cell_type": "code",
   "execution_count": 9,
   "id": "071b029e",
   "metadata": {
    "_cell_guid": "6380f394-d2ca-40ed-b2db-7f47dd87023d",
    "_uuid": "3783282b-84a5-4b38-bd7d-29eb820e092f",
    "collapsed": false,
    "execution": {
     "iopub.execute_input": "2025-06-02T12:25:55.570669Z",
     "iopub.status.busy": "2025-06-02T12:25:55.570494Z",
     "iopub.status.idle": "2025-06-02T12:25:55.574988Z",
     "shell.execute_reply": "2025-06-02T12:25:55.574485Z"
    },
    "jupyter": {
     "outputs_hidden": false
    },
    "papermill": {
     "duration": 0.011779,
     "end_time": "2025-06-02T12:25:55.575944",
     "exception": false,
     "start_time": "2025-06-02T12:25:55.564165",
     "status": "completed"
    },
    "tags": []
   },
   "outputs": [],
   "source": [
    "# Data Loading & Preprocessing Function\n",
    "def load_data(path):\n",
    "    \"\"\"\n",
    "    Load and preprocess the competition data.\n",
    "    \n",
    "    The raw data has prompts and responses stored as string representations\n",
    "    of lists, so we need to evaluate them to extract the actual content.\n",
    "    \"\"\"\n",
    "    df = pd.read_csv(path)\n",
    "    \n",
    "    # Extract first prompt from list format (some entries have multiple prompts)\n",
    "    df[\"prompt\"] = df.prompt.map(lambda x: eval(x)[0])\n",
    "    \n",
    "    # Handle null values in responses and extract first response\n",
    "    # Replace 'null' string with empty string to avoid eval errors\n",
    "    df[\"response_a\"] = df.response_a.map(lambda x: eval(x.replace(\"null\",\"''\"))[0])\n",
    "    df[\"response_b\"] = df.response_b.map(lambda x: eval(x.replace(\"null\",\"''\"))[0])\n",
    "    \n",
    "    return df"
   ]
  },
  {
   "cell_type": "code",
   "execution_count": 10,
   "id": "74acfee8",
   "metadata": {
    "_cell_guid": "ca78ba9b-ce96-4572-bf64-c2ba6338c6f0",
    "_uuid": "6450e01a-3562-4e71-959b-f638e9e35689",
    "collapsed": false,
    "execution": {
     "iopub.execute_input": "2025-06-02T12:25:55.588674Z",
     "iopub.status.busy": "2025-06-02T12:25:55.588499Z",
     "iopub.status.idle": "2025-06-02T12:26:03.591274Z",
     "shell.execute_reply": "2025-06-02T12:26:03.590457Z"
    },
    "jupyter": {
     "outputs_hidden": false
    },
    "papermill": {
     "duration": 8.010408,
     "end_time": "2025-06-02T12:26:03.592431",
     "exception": false,
     "start_time": "2025-06-02T12:25:55.582023",
     "status": "completed"
    },
    "tags": []
   },
   "outputs": [
    {
     "name": "stdout",
     "output_type": "stream",
     "text": [
      "Training data shape: (57477, 9)\n",
      "Test data shape: (3, 4)\n"
     ]
    }
   ],
   "source": [
    "# Load Training and Test Data\n",
    "df = load_data(f'{BASE_PATH}/train.csv')\n",
    "test_df = load_data(f'{BASE_PATH}/test.csv')\n",
    "\n",
    "print(f\"Training data shape: {df.shape}\")\n",
    "print(f\"Test data shape: {test_df.shape}\")"
   ]
  },
  {
   "cell_type": "code",
   "execution_count": 11,
   "id": "6cb042fe",
   "metadata": {
    "_cell_guid": "b84df13a-da37-4982-b30a-a4f395f55f45",
    "_uuid": "44f3a905-a1e5-4edb-afe0-31eb1a8550c2",
    "collapsed": false,
    "execution": {
     "iopub.execute_input": "2025-06-02T12:26:03.605428Z",
     "iopub.status.busy": "2025-06-02T12:26:03.605198Z",
     "iopub.status.idle": "2025-06-02T12:26:03.635420Z",
     "shell.execute_reply": "2025-06-02T12:26:03.634453Z"
    },
    "jupyter": {
     "outputs_hidden": false
    },
    "papermill": {
     "duration": 0.038156,
     "end_time": "2025-06-02T12:26:03.636749",
     "exception": false,
     "start_time": "2025-06-02T12:26:03.598593",
     "status": "completed"
    },
    "tags": []
   },
   "outputs": [
    {
     "name": "stdout",
     "output_type": "stream",
     "text": [
      "Class distribution:\n",
      "class_name\n",
      "winner_model_a    20064\n",
      "winner_model_b    19652\n",
      "winner_tie        17761\n",
      "Name: count, dtype: int64\n"
     ]
    }
   ],
   "source": [
    "# Convert one-hot encoded winners to single class labels\n",
    "\n",
    "# Find which model won (or if it was a tie) for each row\n",
    "df[\"class_name\"] = df[[\"winner_model_a\", \"winner_model_b\", \"winner_tie\"]].idxmax(axis=1)\n",
    "# Convert to numeric labels for model training\n",
    "df[\"class_label\"] = df.class_name.map(CFG.name2label)\n",
    "\n",
    "print(\"Class distribution:\")\n",
    "print(df.class_name.value_counts())"
   ]
  },
  {
   "cell_type": "markdown",
   "id": "61f59b37",
   "metadata": {
    "papermill": {
     "duration": 0.005989,
     "end_time": "2025-06-02T12:26:03.699164",
     "exception": false,
     "start_time": "2025-06-02T12:26:03.693175",
     "status": "completed"
    },
    "tags": []
   },
   "source": [
    "### Data Augmentation: Response Swapping"
   ]
  },
  {
   "cell_type": "code",
   "execution_count": 12,
   "id": "8044c46a",
   "metadata": {
    "_cell_guid": "b692223d-0209-40f9-8f27-47ab3ab67474",
    "_uuid": "211213c1-c6c2-493e-a5ee-da6df9492eee",
    "collapsed": false,
    "execution": {
     "iopub.execute_input": "2025-06-02T12:26:03.713263Z",
     "iopub.status.busy": "2025-06-02T12:26:03.712683Z",
     "iopub.status.idle": "2025-06-02T12:26:03.717797Z",
     "shell.execute_reply": "2025-06-02T12:26:03.717106Z"
    },
    "jupyter": {
     "outputs_hidden": false
    },
    "papermill": {
     "duration": 0.013921,
     "end_time": "2025-06-02T12:26:03.719057",
     "exception": false,
     "start_time": "2025-06-02T12:26:03.705136",
     "status": "completed"
    },
    "tags": []
   },
   "outputs": [],
   "source": [
    "# Critical technique to reduce position bias in the model\n",
    "\n",
    "def swap_responses(row):\n",
    "    \"\"\"\n",
    "    Randomly swap response_a and response_b positions.\n",
    "    \n",
    "    This data augmentation technique helps the model avoid learning\n",
    "    position bias (always preferring the first or second response).\n",
    "    When we swap responses, we also need to swap the corresponding labels.\n",
    "    \"\"\"\n",
    "    if np.random.rand() > 0.5:  # 50% chance to swap\n",
    "        # Swap the actual responses\n",
    "        row[\"response_a\"], row[\"response_b\"] = row[\"response_b\"], row[\"response_a\"]\n",
    "        \n",
    "        # Update labels accordingly\n",
    "        if row[\"class_name\"] == \"winner_model_a\":\n",
    "            row[\"class_name\"] = \"winner_model_b\"\n",
    "        elif row[\"class_name\"] == \"winner_model_b\":\n",
    "            row[\"class_name\"] = \"winner_model_a\"\n",
    "        # Ties remain ties after swapping\n",
    "    \n",
    "    # Update numeric label\n",
    "    row[\"class_label\"] = CFG.name2label[row[\"class_name\"]]\n",
    "    return row"
   ]
  },
  {
   "cell_type": "markdown",
   "id": "effe2e21",
   "metadata": {
    "papermill": {
     "duration": 0.006175,
     "end_time": "2025-06-02T12:26:03.732177",
     "exception": false,
     "start_time": "2025-06-02T12:26:03.726002",
     "status": "completed"
    },
    "tags": []
   },
   "source": [
    "## Preprocessing"
   ]
  },
  {
   "cell_type": "code",
   "execution_count": 13,
   "id": "26b167e6",
   "metadata": {
    "_cell_guid": "fd0c6668-5804-47b3-b88c-d10706175267",
    "_uuid": "f2d74baa-8ddd-4b16-9a93-1a8ab5976790",
    "collapsed": false,
    "execution": {
     "iopub.execute_input": "2025-06-02T12:26:03.745244Z",
     "iopub.status.busy": "2025-06-02T12:26:03.744898Z",
     "iopub.status.idle": "2025-06-02T12:26:07.070217Z",
     "shell.execute_reply": "2025-06-02T12:26:07.069374Z"
    },
    "jupyter": {
     "outputs_hidden": false
    },
    "papermill": {
     "duration": 3.333539,
     "end_time": "2025-06-02T12:26:07.071553",
     "exception": false,
     "start_time": "2025-06-02T12:26:03.738014",
     "status": "completed"
    },
    "tags": []
   },
   "outputs": [
    {
     "name": "stderr",
     "output_type": "stream",
     "text": [
      "I0000 00:00:1748867166.695590      19 gpu_device.cc:2022] Created device /job:localhost/replica:0/task:0/device:GPU:0 with 13942 MB memory:  -> device: 0, name: Tesla T4, pci bus id: 0000:00:04.0, compute capability: 7.5\n",
      "I0000 00:00:1748867166.696411      19 gpu_device.cc:2022] Created device /job:localhost/replica:0/task:0/device:GPU:1 with 13942 MB memory:  -> device: 1, name: Tesla T4, pci bus id: 0000:00:05.0, compute capability: 7.5\n"
     ]
    },
    {
     "name": "stdout",
     "output_type": "stream",
     "text": [
      "Preprocessor vocabulary size: 128001\n"
     ]
    }
   ],
   "source": [
    "# Initialize DeBERTa-v3 preprocessor for tokenization\n",
    "\n",
    "preprocessor = keras_nlp.models.DebertaV3Preprocessor.from_preset(\n",
    "    preset=CFG.preset,\n",
    "    sequence_length=CFG.max_seq_length,\n",
    ")\n",
    "\n",
    "print(f\"Preprocessor vocabulary size: {preprocessor.tokenizer.vocabulary_size()}\")"
   ]
  },
  {
   "cell_type": "code",
   "execution_count": 14,
   "id": "00548363",
   "metadata": {
    "_cell_guid": "d6e7c00b-4e6b-4ef3-9f84-f6e0f2638608",
    "_uuid": "5512970c-0962-403e-8c78-cc6a3c363f28",
    "collapsed": false,
    "execution": {
     "iopub.execute_input": "2025-06-02T12:26:07.084923Z",
     "iopub.status.busy": "2025-06-02T12:26:07.084699Z",
     "iopub.status.idle": "2025-06-02T12:26:07.088464Z",
     "shell.execute_reply": "2025-06-02T12:26:07.087804Z"
    },
    "jupyter": {
     "outputs_hidden": false
    },
    "papermill": {
     "duration": 0.011561,
     "end_time": "2025-06-02T12:26:07.089569",
     "exception": false,
     "start_time": "2025-06-02T12:26:07.078008",
     "status": "completed"
    },
    "tags": []
   },
   "outputs": [],
   "source": [
    "# Preprocessing Function\n",
    "def preprocess_fn(text, label=None):\n",
    "    \"\"\"\n",
    "    Apply tokenization and preprocessing to text inputs.\n",
    "    \n",
    "    The preprocessor handles:\n",
    "    - Tokenization using DeBERTa's vocabulary\n",
    "    - Adding special tokens ([CLS], [SEP])\n",
    "    - Padding/truncating to max_seq_length\n",
    "    - Creating attention masks\n",
    "    \"\"\"\n",
    "    text = preprocessor(text)\n",
    "    return (text, label) if label is not None else text"
   ]
  },
  {
   "cell_type": "markdown",
   "id": "6f954a96",
   "metadata": {
    "papermill": {
     "duration": 0.005886,
     "end_time": "2025-06-02T12:26:07.101455",
     "exception": false,
     "start_time": "2025-06-02T12:26:07.095569",
     "status": "completed"
    },
    "tags": []
   },
   "source": [
    "### Contextualize Response with Prompt"
   ]
  },
  {
   "cell_type": "code",
   "execution_count": 15,
   "id": "a297f30e",
   "metadata": {
    "_cell_guid": "4f298d8e-68a1-4895-ac29-922007802082",
    "_uuid": "7739a9ed-b2b8-4bd8-9b42-0d6c292b29ad",
    "collapsed": false,
    "execution": {
     "iopub.execute_input": "2025-06-02T12:26:07.114678Z",
     "iopub.status.busy": "2025-06-02T12:26:07.114163Z",
     "iopub.status.idle": "2025-06-02T12:26:07.118773Z",
     "shell.execute_reply": "2025-06-02T12:26:07.118277Z"
    },
    "jupyter": {
     "outputs_hidden": false
    },
    "papermill": {
     "duration": 0.01222,
     "end_time": "2025-06-02T12:26:07.119769",
     "exception": false,
     "start_time": "2025-06-02T12:26:07.107549",
     "status": "completed"
    },
    "tags": []
   },
   "outputs": [],
   "source": [
    "# Format prompt and responses into comparable text pairs\n",
    "\n",
    "def make_pairs(row):\n",
    "    \"\"\"\n",
    "    Create formatted text pairs for model input.\n",
    "    \n",
    "    Each row will have two options:\n",
    "    1. \"Prompt: X\\n\\nResponse: A\"  \n",
    "    2. \"Prompt: X\\n\\nResponse: B\"\n",
    "    \n",
    "    The model will learn to compare these formatted strings.\n",
    "    \"\"\"\n",
    "    row[\"encode_fail\"] = False\n",
    "    \n",
    "    # Handle potential encoding issues gracefully\n",
    "    try:\n",
    "        prompt = row.prompt.encode(\"utf-8\").decode(\"utf-8\")\n",
    "    except:\n",
    "        prompt = \"\"\n",
    "        row[\"encode_fail\"] = True\n",
    "\n",
    "    try:\n",
    "        response_a = row.response_a.encode(\"utf-8\").decode(\"utf-8\")\n",
    "    except:\n",
    "        response_a = \"\"\n",
    "        row[\"encode_fail\"] = True\n",
    "\n",
    "    try:\n",
    "        response_b = row.response_b.encode(\"utf-8\").decode(\"utf-8\")\n",
    "    except:\n",
    "        response_b = \"\"\n",
    "        row[\"encode_fail\"] = True\n",
    "    \n",
    "    # Create structured format for model input\n",
    "    row['options'] = [\n",
    "        f\"Prompt: {prompt}\\n\\nResponse: {response_a}\",\n",
    "        f\"Prompt: {prompt}\\n\\nResponse: {response_b}\"\n",
    "    ]\n",
    "    return row"
   ]
  },
  {
   "cell_type": "code",
   "execution_count": 16,
   "id": "203c5f14",
   "metadata": {
    "_cell_guid": "dd16f34b-b6e2-43a4-b715-ade0a69e5135",
    "_uuid": "1f7b0995-a47b-4ba5-9437-f9445ab9b0f6",
    "collapsed": false,
    "execution": {
     "iopub.execute_input": "2025-06-02T12:26:07.132436Z",
     "iopub.status.busy": "2025-06-02T12:26:07.132259Z",
     "iopub.status.idle": "2025-06-02T12:26:52.242810Z",
     "shell.execute_reply": "2025-06-02T12:26:52.241994Z"
    },
    "jupyter": {
     "outputs_hidden": false
    },
    "papermill": {
     "duration": 45.124147,
     "end_time": "2025-06-02T12:26:52.249895",
     "exception": false,
     "start_time": "2025-06-02T12:26:07.125748",
     "status": "completed"
    },
    "tags": []
   },
   "outputs": [
    {
     "name": "stdout",
     "output_type": "stream",
     "text": [
      "Encoding failures in training data: 592\n"
     ]
    }
   ],
   "source": [
    "# Apply Text Pair Creation\n",
    "df = df.apply(make_pairs, axis=1)\n",
    "test_df = test_df.apply(make_pairs, axis=1)\n",
    "\n",
    "# Check for encoding failures\n",
    "encoding_failures = df['encode_fail'].sum()\n",
    "print(f\"Encoding failures in training data: {encoding_failures}\")"
   ]
  },
  {
   "cell_type": "markdown",
   "id": "c7acb6c2",
   "metadata": {
    "papermill": {
     "duration": 0.005975,
     "end_time": "2025-06-02T12:26:52.262256",
     "exception": false,
     "start_time": "2025-06-02T12:26:52.256281",
     "status": "completed"
    },
    "tags": []
   },
   "source": [
    "# DataLoader"
   ]
  },
  {
   "cell_type": "code",
   "execution_count": 17,
   "id": "d9deec14",
   "metadata": {
    "_cell_guid": "29f1a47b-1d8d-4135-9e30-57520ebd8c06",
    "_uuid": "f5823f67-3ed7-4117-9f22-e8d1c3b48144",
    "collapsed": false,
    "execution": {
     "iopub.execute_input": "2025-06-02T12:26:52.275607Z",
     "iopub.status.busy": "2025-06-02T12:26:52.274901Z",
     "iopub.status.idle": "2025-06-02T12:26:52.280362Z",
     "shell.execute_reply": "2025-06-02T12:26:52.279690Z"
    },
    "jupyter": {
     "outputs_hidden": false
    },
    "papermill": {
     "duration": 0.013262,
     "end_time": "2025-06-02T12:26:52.281521",
     "exception": false,
     "start_time": "2025-06-02T12:26:52.268259",
     "status": "completed"
    },
    "tags": []
   },
   "outputs": [],
   "source": [
    "# Dataset Building Function\n",
    "def build_dataset(texts, labels=None, batch_size=32, cache=True, shuffle=1024):\n",
    "    \"\"\"\n",
    "    Build optimized TensorFlow datasets for training/inference.\n",
    "    \n",
    "    Optimizations included:\n",
    "    - Caching for repeated epoch access\n",
    "    - Parallel preprocessing\n",
    "    - Prefetching for pipeline efficiency\n",
    "    - Optional shuffling for training\n",
    "    \"\"\"\n",
    "    AUTO = tf.data.AUTOTUNE\n",
    "    \n",
    "    # Create tensor slices - include labels for training, exclude for test\n",
    "    if labels is None:\n",
    "        slices = (texts,)\n",
    "    else:\n",
    "        # Convert labels to one-hot encoding for categorical crossentropy\n",
    "        slices = (texts, keras.utils.to_categorical(labels, num_classes=3))\n",
    "    \n",
    "    ds = tf.data.Dataset.from_tensor_slices(slices)\n",
    "    \n",
    "    # Cache dataset in memory for faster epoch iterations\n",
    "    ds = ds.cache() if cache else ds\n",
    "    \n",
    "    # Apply preprocessing in parallel\n",
    "    ds = ds.map(preprocess_fn, num_parallel_calls=AUTO)\n",
    "    \n",
    "    # Configure dataset options\n",
    "    opt = tf.data.Options()\n",
    "    if shuffle: \n",
    "        ds = ds.shuffle(shuffle, seed=CFG.seed)\n",
    "        opt.experimental_deterministic = False  # Allow non-deterministic for speed\n",
    "    ds = ds.with_options(opt)\n",
    "    \n",
    "    # Batch and prefetch for efficiency\n",
    "    ds = ds.batch(batch_size, drop_remainder=False)\n",
    "    ds = ds.prefetch(AUTO)  # Prefetch next batch while training current\n",
    "    \n",
    "    return ds"
   ]
  },
  {
   "cell_type": "markdown",
   "id": "b16affcc",
   "metadata": {
    "papermill": {
     "duration": 0.005899,
     "end_time": "2025-06-02T12:26:52.293547",
     "exception": false,
     "start_time": "2025-06-02T12:26:52.287648",
     "status": "completed"
    },
    "tags": []
   },
   "source": [
    "## LR Schedule"
   ]
  },
  {
   "cell_type": "code",
   "execution_count": 18,
   "id": "e172f0c5",
   "metadata": {
    "_cell_guid": "f310b418-299f-42c3-afd8-f2eb79152512",
    "_uuid": "3a2b0c38-e7e5-4291-bca8-7ea305cee36d",
    "collapsed": false,
    "execution": {
     "iopub.execute_input": "2025-06-02T12:26:52.306755Z",
     "iopub.status.busy": "2025-06-02T12:26:52.306551Z",
     "iopub.status.idle": "2025-06-02T12:26:52.313483Z",
     "shell.execute_reply": "2025-06-02T12:26:52.312955Z"
    },
    "jupyter": {
     "outputs_hidden": false
    },
    "papermill": {
     "duration": 0.014974,
     "end_time": "2025-06-02T12:26:52.314524",
     "exception": false,
     "start_time": "2025-06-02T12:26:52.299550",
     "status": "completed"
    },
    "tags": []
   },
   "outputs": [],
   "source": [
    "# Learning Rate Schedule Function\n",
    "def get_lr_callback(batch_size=8, mode='cosine', epochs=10, plot=False):\n",
    "    \"\"\"\n",
    "    Create sophisticated learning rate schedule with warmup and decay.\n",
    "    \n",
    "    Learning rate strategy:\n",
    "    1. Warmup: Gradually increase LR to prevent early instability\n",
    "    2. Sustain: Brief period at peak LR (optional)\n",
    "    3. Decay: Cosine/linear decay to fine-tune weights\n",
    "    \n",
    "    The LR is scaled based on effective batch size following the\n",
    "    linear scaling rule from large batch training literature.\n",
    "    \"\"\"\n",
    "    # Calculate effective batch size with gradient accumulation\n",
    "    effective_batch_size = batch_size * CFG.gradient_accumulation_steps\n",
    "    \n",
    "    # Scale learning rate with batch size (linear scaling rule)\n",
    "    # Larger batches need higher learning rates to maintain training dynamics\n",
    "    lr_start = 1.0e-6  # Conservative starting point\n",
    "    lr_max = 1.0e-6 * (effective_batch_size / 8)  # Scale up for larger batches\n",
    "    lr_min = 1.0e-7  # Very low minimum to continue fine-tuning\n",
    "    \n",
    "    # Schedule phases\n",
    "    lr_ramp_ep = 2  # Warmup epochs - critical for transformer stability\n",
    "    lr_sus_ep = 0   # Sustain epochs at peak LR\n",
    "    \n",
    "    def lrfn(epoch):\n",
    "        # Phase 1: Warmup - linear increase to prevent early training instability\n",
    "        if epoch < lr_ramp_ep:\n",
    "            lr = (lr_max - lr_start) / lr_ramp_ep * epoch + lr_start\n",
    "        \n",
    "        # Phase 2: Sustain - maintain peak LR briefly (if lr_sus_ep > 0)\n",
    "        elif epoch < lr_ramp_ep + lr_sus_ep:\n",
    "            lr = lr_max\n",
    "            \n",
    "        # Phase 3: Decay - reduce LR for fine-tuning\n",
    "        else:\n",
    "            decay_total_epochs = max(1, epochs - lr_ramp_ep - lr_sus_ep)\n",
    "            decay_epoch = epoch - lr_ramp_ep - lr_sus_ep\n",
    "            decay_ratio = decay_epoch / decay_total_epochs\n",
    "            \n",
    "            if mode == 'cosine':\n",
    "                # Cosine annealing - smooth decay that works well with transformers\n",
    "                import math\n",
    "                lr = lr_min + 0.5 * (lr_max - lr_min) * (1 + math.cos(math.pi * decay_ratio))\n",
    "            elif mode == 'linear':\n",
    "                # Linear decay - simpler alternative\n",
    "                lr = lr_max - (lr_max - lr_min) * decay_ratio\n",
    "            else:\n",
    "                # Constant LR fallback\n",
    "                lr = lr_max\n",
    "                \n",
    "        return lr\n",
    "\n",
    "    # Visualize learning rate schedule for debugging\n",
    "    if plot:\n",
    "        plt.figure(figsize=(10, 5))\n",
    "        epochs_range = np.arange(epochs)\n",
    "        lr_values = [lrfn(epoch) for epoch in epochs_range]\n",
    "        plt.plot(epochs_range, lr_values)\n",
    "        plt.title(f'Learning Rate Schedule ({mode})')\n",
    "        plt.xlabel('Epoch')\n",
    "        plt.ylabel('Learning Rate')\n",
    "        plt.grid(True)\n",
    "        plt.yscale('log')  # Log scale better shows LR changes\n",
    "        plt.show()\n",
    "        \n",
    "        print(f\"LR Range: {min(lr_values):.2e} to {max(lr_values):.2e}\")\n",
    "\n",
    "    return keras.callbacks.LearningRateScheduler(lrfn, verbose=False)"
   ]
  },
  {
   "cell_type": "markdown",
   "id": "f9d5e34a",
   "metadata": {
    "papermill": {
     "duration": 0.005846,
     "end_time": "2025-06-02T12:26:52.326533",
     "exception": false,
     "start_time": "2025-06-02T12:26:52.320687",
     "status": "completed"
    },
    "tags": []
   },
   "source": [
    "## Modeling"
   ]
  },
  {
   "cell_type": "code",
   "execution_count": 19,
   "id": "0a32513e",
   "metadata": {
    "_cell_guid": "66aa8a5f-4136-473f-9997-648a4ad721a5",
    "_uuid": "a87069c0-bbde-4eee-b988-5afb86a632d2",
    "collapsed": false,
    "execution": {
     "iopub.execute_input": "2025-06-02T12:26:52.339327Z",
     "iopub.status.busy": "2025-06-02T12:26:52.339118Z",
     "iopub.status.idle": "2025-06-02T12:26:52.346164Z",
     "shell.execute_reply": "2025-06-02T12:26:52.345611Z"
    },
    "jupyter": {
     "outputs_hidden": false
    },
    "papermill": {
     "duration": 0.014859,
     "end_time": "2025-06-02T12:26:52.347301",
     "exception": false,
     "start_time": "2025-06-02T12:26:52.332442",
     "status": "completed"
    },
    "tags": []
   },
   "outputs": [],
   "source": [
    "# Model Architecture\n",
    "def build_model():\n",
    "    \"\"\"\n",
    "    Build DeBERTa-v3 based preference classification model.\n",
    "    \n",
    "    Architecture:\n",
    "    1. Shared DeBERTa backbone processes both response options\n",
    "    2. Concatenate embeddings from both responses  \n",
    "    3. Global average pooling to get fixed-size representation\n",
    "    4. Dropout for regularization\n",
    "    5. Dense layer with softmax for 3-class prediction\n",
    "    \n",
    "    This siamese-like architecture allows the model to compare\n",
    "    responses while sharing weights efficiently.\n",
    "    \"\"\"\n",
    "    # Clear memory before building\n",
    "    gc.collect()\n",
    "    \n",
    "    # Define inputs - we'll process pairs of sequences\n",
    "    # Shape: (batch_size, 2, sequence_length) for token_ids and padding_mask\n",
    "    inputs = {\n",
    "        \"token_ids\": keras.Input(shape=(2, None), dtype=tf.int32, name=\"token_ids\"),\n",
    "        \"padding_mask\": keras.Input(shape=(2, None), dtype=tf.int32, name=\"padding_mask\"),\n",
    "    }\n",
    "    \n",
    "    # Load pre-trained DeBERTa backbone\n",
    "    backbone = keras_nlp.models.DebertaV3Backbone.from_preset(CFG.preset)\n",
    "    \n",
    "    with strategy.scope():  # Ensure model is built in distribution strategy scope\n",
    "        # Process each response option through shared backbone\n",
    "        # Extract first option (response A)\n",
    "        response_a = {k: v[:, 0, :] for k, v in inputs.items()}\n",
    "        embed_a = backbone(response_a)  # Shape: (batch_size, seq_len, hidden_dim)\n",
    "        \n",
    "        # Extract second option (response B)  \n",
    "        response_b = {k: v[:, 1, :] for k, v in inputs.items()}\n",
    "        embed_b = backbone(response_b)  # Shape: (batch_size, seq_len, hidden_dim)\n",
    "        \n",
    "        # Combine embeddings from both responses\n",
    "        # This allows the model to directly compare the representations\n",
    "        embeds = keras.layers.Concatenate(axis=-1)([embed_a, embed_b])\n",
    "        \n",
    "        # Global average pooling to get fixed-size representation\n",
    "        embeds = keras.layers.GlobalAveragePooling1D()(embeds)\n",
    "        \n",
    "        # Regularization to prevent overfitting\n",
    "        embeds = keras.layers.Dropout(0.3)(embeds)\n",
    "        \n",
    "        # Final classification layer\n",
    "        outputs = keras.layers.Dense(\n",
    "            3,  # Three classes: model_a wins, model_b wins, tie\n",
    "            activation=\"softmax\",  # Probability distribution over classes\n",
    "            kernel_regularizer=keras.regularizers.l2(1e-4)  # L2 regularization\n",
    "        )(embeds)\n",
    "        \n",
    "        # Create and compile model\n",
    "        model = keras.Model(inputs, outputs)\n",
    "        model.compile(\n",
    "            optimizer=keras.optimizers.Adam(5e-6),  # Conservative learning rate\n",
    "            loss=keras.losses.CategoricalCrossentropy(\n",
    "                label_smoothing=0.02  # Slight label smoothing for robustness\n",
    "            ),\n",
    "            metrics=[keras.metrics.CategoricalAccuracy(name=\"accuracy\")]\n",
    "        )\n",
    "    \n",
    "    print(f\"Model built with {model.count_params():,} parameters\")\n",
    "    return model"
   ]
  },
  {
   "cell_type": "code",
   "execution_count": 20,
   "id": "fb8b253f",
   "metadata": {
    "_cell_guid": "50bb744a-14eb-4e24-85b5-9d73dc29871a",
    "_uuid": "8fb44dcf-14f6-4cad-81f1-2a6da834612c",
    "collapsed": false,
    "execution": {
     "iopub.execute_input": "2025-06-02T12:26:52.360524Z",
     "iopub.status.busy": "2025-06-02T12:26:52.360312Z",
     "iopub.status.idle": "2025-06-02T12:26:56.384125Z",
     "shell.execute_reply": "2025-06-02T12:26:56.383117Z"
    },
    "jupyter": {
     "outputs_hidden": false
    },
    "papermill": {
     "duration": 4.032191,
     "end_time": "2025-06-02T12:26:56.385557",
     "exception": false,
     "start_time": "2025-06-02T12:26:52.353366",
     "status": "completed"
    },
    "tags": []
   },
   "outputs": [
    {
     "name": "stdout",
     "output_type": "stream",
     "text": [
      "Class distribution in training set:\n",
      "class_name\n",
      "winner_model_a    0.349079\n",
      "winner_model_b    0.341902\n",
      "winner_tie        0.309019\n",
      "Name: proportion, dtype: float64\n",
      "\n",
      "Class distribution in validation set:\n",
      "class_name\n",
      "winner_model_a    0.349078\n",
      "winner_model_b    0.341945\n",
      "winner_tie        0.308977\n",
      "Name: proportion, dtype: float64\n",
      "\n",
      "Training samples: 45981\n",
      "Validation samples: 11496\n"
     ]
    }
   ],
   "source": [
    "# Free up memory before splitting\n",
    "gc.collect()\n",
    "\n",
    "# Stratified split to maintain class balance across train/validation\n",
    "train_df, valid_df = train_test_split(\n",
    "    df, \n",
    "    test_size=0.2, \n",
    "    stratify=df[\"class_label\"],  # Ensure balanced class distribution\n",
    "    random_state=CFG.seed\n",
    ")\n",
    "\n",
    "print(\"Class distribution in training set:\")\n",
    "print(train_df.class_name.value_counts(normalize=True))\n",
    "\n",
    "print(\"\\nClass distribution in validation set:\")  \n",
    "print(valid_df.class_name.value_counts(normalize=True))\n",
    "\n",
    "# Apply response swapping augmentation to training data only\n",
    "train_df = train_df.apply(swap_responses, axis=1)\n",
    "\n",
    "print(f\"\\nTraining samples: {len(train_df)}\")\n",
    "print(f\"Validation samples: {len(valid_df)}\")"
   ]
  },
  {
   "cell_type": "code",
   "execution_count": 21,
   "id": "64f5d63e",
   "metadata": {
    "_cell_guid": "e25afa0c-5e07-4f0f-9144-742695d11284",
    "_uuid": "01c4067a-67a6-4904-a8e2-7d7135d35dab",
    "collapsed": false,
    "execution": {
     "iopub.execute_input": "2025-06-02T12:26:56.399191Z",
     "iopub.status.busy": "2025-06-02T12:26:56.398953Z",
     "iopub.status.idle": "2025-06-02T12:27:01.866001Z",
     "shell.execute_reply": "2025-06-02T12:27:01.865269Z"
    },
    "jupyter": {
     "outputs_hidden": false
    },
    "papermill": {
     "duration": 5.474915,
     "end_time": "2025-06-02T12:27:01.867118",
     "exception": false,
     "start_time": "2025-06-02T12:26:56.392203",
     "status": "completed"
    },
    "tags": []
   },
   "outputs": [
    {
     "name": "stdout",
     "output_type": "stream",
     "text": [
      "Building training dataset...\n",
      "Building validation dataset...\n",
      "Datasets created successfully!\n"
     ]
    }
   ],
   "source": [
    "# Build TensorFlow datasets with optimized pipeline\n",
    "\n",
    "print(\"Building training dataset...\")\n",
    "train_ds = build_dataset(\n",
    "    train_df.options.tolist(), \n",
    "    train_df.class_label.tolist(), \n",
    "    batch_size=CFG.batch_size\n",
    ")\n",
    "\n",
    "print(\"Building validation dataset...\")\n",
    "valid_ds = build_dataset(\n",
    "    valid_df.options.tolist(), \n",
    "    valid_df.class_label.tolist(), \n",
    "    batch_size=CFG.batch_size\n",
    ")\n",
    "\n",
    "# Free up memory from dataframes no longer needed\n",
    "del train_df, valid_df\n",
    "gc.collect()\n",
    "\n",
    "print(\"Datasets created successfully!\")"
   ]
  },
  {
   "cell_type": "code",
   "execution_count": 22,
   "id": "c9220315",
   "metadata": {
    "_cell_guid": "1a63b112-8f5e-4840-8023-1e24cd3b285d",
    "_uuid": "2121f941-f543-4539-a7c8-ef242bb67a1d",
    "collapsed": false,
    "execution": {
     "iopub.execute_input": "2025-06-02T12:27:01.880801Z",
     "iopub.status.busy": "2025-06-02T12:27:01.880575Z",
     "iopub.status.idle": "2025-06-02T12:27:11.550715Z",
     "shell.execute_reply": "2025-06-02T12:27:11.549939Z"
    },
    "jupyter": {
     "outputs_hidden": false
    },
    "papermill": {
     "duration": 9.678761,
     "end_time": "2025-06-02T12:27:11.552482",
     "exception": false,
     "start_time": "2025-06-02T12:27:01.873721",
     "status": "completed"
    },
    "tags": []
   },
   "outputs": [
    {
     "name": "stdout",
     "output_type": "stream",
     "text": [
      "Building model...\n"
     ]
    },
    {
     "name": "stderr",
     "output_type": "stream",
     "text": [
      "INFO:2025-06-02 12:27:03,393:jax._src.xla_bridge:924: Unable to initialize backend 'rocm': module 'jaxlib.xla_extension' has no attribute 'GpuAllocatorConfig'\n",
      "INFO:2025-06-02 12:27:03,405:jax._src.xla_bridge:924: Unable to initialize backend 'tpu': INTERNAL: Failed to open libtpu.so: libtpu.so: cannot open shared object file: No such file or directory\n"
     ]
    },
    {
     "name": "stdout",
     "output_type": "stream",
     "text": [
      "Model built with 70,684,419 parameters\n"
     ]
    },
    {
     "data": {
      "text/html": [
       "<pre style=\"white-space:pre;overflow-x:auto;line-height:normal;font-family:Menlo,'DejaVu Sans Mono',consolas,'Courier New',monospace\"><span style=\"font-weight: bold\">Model: \"functional\"</span>\n",
       "</pre>\n"
      ],
      "text/plain": [
       "\u001b[1mModel: \"functional\"\u001b[0m\n"
      ]
     },
     "metadata": {},
     "output_type": "display_data"
    },
    {
     "data": {
      "text/html": [
       "<pre style=\"white-space:pre;overflow-x:auto;line-height:normal;font-family:Menlo,'DejaVu Sans Mono',consolas,'Courier New',monospace\">┏━━━━━━━━━━━━━━━━━━━━━━━━┳━━━━━━━━━━━━━━━━━━━━━━┳━━━━━━━━━━━━━━┳━━━━━━━━━━━━━━━━━━━━━┳━━━━━━━━━┓\n",
       "┃<span style=\"font-weight: bold\"> Layer (type)           </span>┃<span style=\"font-weight: bold\"> Output Shape         </span>┃<span style=\"font-weight: bold\">      Param # </span>┃<span style=\"font-weight: bold\"> Connected to        </span>┃<span style=\"font-weight: bold\"> Traina… </span>┃\n",
       "┡━━━━━━━━━━━━━━━━━━━━━━━━╇━━━━━━━━━━━━━━━━━━━━━━╇━━━━━━━━━━━━━━╇━━━━━━━━━━━━━━━━━━━━━╇━━━━━━━━━┩\n",
       "│ padding_mask           │ (<span style=\"color: #00d7ff; text-decoration-color: #00d7ff\">None</span>, <span style=\"color: #00af00; text-decoration-color: #00af00\">2</span>, <span style=\"color: #00d7ff; text-decoration-color: #00d7ff\">None</span>)      │            <span style=\"color: #00af00; text-decoration-color: #00af00\">0</span> │ -                   │    <span style=\"font-weight: bold\">-</span>    │\n",
       "│ (<span style=\"color: #0087ff; text-decoration-color: #0087ff\">InputLayer</span>)           │                      │              │                     │         │\n",
       "├────────────────────────┼──────────────────────┼──────────────┼─────────────────────┼─────────┤\n",
       "│ token_ids (<span style=\"color: #0087ff; text-decoration-color: #0087ff\">InputLayer</span>) │ (<span style=\"color: #00d7ff; text-decoration-color: #00d7ff\">None</span>, <span style=\"color: #00af00; text-decoration-color: #00af00\">2</span>, <span style=\"color: #00d7ff; text-decoration-color: #00d7ff\">None</span>)      │            <span style=\"color: #00af00; text-decoration-color: #00af00\">0</span> │ -                   │    <span style=\"font-weight: bold\">-</span>    │\n",
       "├────────────────────────┼──────────────────────┼──────────────┼─────────────────────┼─────────┤\n",
       "│ get_item_1 (<span style=\"color: #0087ff; text-decoration-color: #0087ff\">GetItem</span>)   │ (<span style=\"color: #00d7ff; text-decoration-color: #00d7ff\">None</span>, <span style=\"color: #00d7ff; text-decoration-color: #00d7ff\">None</span>)         │            <span style=\"color: #00af00; text-decoration-color: #00af00\">0</span> │ padding_mask[<span style=\"color: #00af00; text-decoration-color: #00af00\">0</span>][<span style=\"color: #00af00; text-decoration-color: #00af00\">0</span>]  │    <span style=\"font-weight: bold\">-</span>    │\n",
       "├────────────────────────┼──────────────────────┼──────────────┼─────────────────────┼─────────┤\n",
       "│ get_item (<span style=\"color: #0087ff; text-decoration-color: #0087ff\">GetItem</span>)     │ (<span style=\"color: #00d7ff; text-decoration-color: #00d7ff\">None</span>, <span style=\"color: #00d7ff; text-decoration-color: #00d7ff\">None</span>)         │            <span style=\"color: #00af00; text-decoration-color: #00af00\">0</span> │ token_ids[<span style=\"color: #00af00; text-decoration-color: #00af00\">0</span>][<span style=\"color: #00af00; text-decoration-color: #00af00\">0</span>]     │    <span style=\"font-weight: bold\">-</span>    │\n",
       "├────────────────────────┼──────────────────────┼──────────────┼─────────────────────┼─────────┤\n",
       "│ get_item_3 (<span style=\"color: #0087ff; text-decoration-color: #0087ff\">GetItem</span>)   │ (<span style=\"color: #00d7ff; text-decoration-color: #00d7ff\">None</span>, <span style=\"color: #00d7ff; text-decoration-color: #00d7ff\">None</span>)         │            <span style=\"color: #00af00; text-decoration-color: #00af00\">0</span> │ padding_mask[<span style=\"color: #00af00; text-decoration-color: #00af00\">0</span>][<span style=\"color: #00af00; text-decoration-color: #00af00\">0</span>]  │    <span style=\"font-weight: bold\">-</span>    │\n",
       "├────────────────────────┼──────────────────────┼──────────────┼─────────────────────┼─────────┤\n",
       "│ get_item_2 (<span style=\"color: #0087ff; text-decoration-color: #0087ff\">GetItem</span>)   │ (<span style=\"color: #00d7ff; text-decoration-color: #00d7ff\">None</span>, <span style=\"color: #00d7ff; text-decoration-color: #00d7ff\">None</span>)         │            <span style=\"color: #00af00; text-decoration-color: #00af00\">0</span> │ token_ids[<span style=\"color: #00af00; text-decoration-color: #00af00\">0</span>][<span style=\"color: #00af00; text-decoration-color: #00af00\">0</span>]     │    <span style=\"font-weight: bold\">-</span>    │\n",
       "├────────────────────────┼──────────────────────┼──────────────┼─────────────────────┼─────────┤\n",
       "│ deberta_v3_backbone    │ (<span style=\"color: #00d7ff; text-decoration-color: #00d7ff\">None</span>, <span style=\"color: #00d7ff; text-decoration-color: #00d7ff\">None</span>, <span style=\"color: #00af00; text-decoration-color: #00af00\">384</span>)    │   <span style=\"color: #00af00; text-decoration-color: #00af00\">70,682,112</span> │ get_item_1[<span style=\"color: #00af00; text-decoration-color: #00af00\">0</span>][<span style=\"color: #00af00; text-decoration-color: #00af00\">0</span>],   │    <span style=\"color: #00af00; text-decoration-color: #00af00; font-weight: bold\">Y</span>    │\n",
       "│ (<span style=\"color: #0087ff; text-decoration-color: #0087ff\">DebertaV3Backbone</span>)    │                      │              │ get_item[<span style=\"color: #00af00; text-decoration-color: #00af00\">0</span>][<span style=\"color: #00af00; text-decoration-color: #00af00\">0</span>],     │         │\n",
       "│                        │                      │              │ get_item_3[<span style=\"color: #00af00; text-decoration-color: #00af00\">0</span>][<span style=\"color: #00af00; text-decoration-color: #00af00\">0</span>],   │         │\n",
       "│                        │                      │              │ get_item_2[<span style=\"color: #00af00; text-decoration-color: #00af00\">0</span>][<span style=\"color: #00af00; text-decoration-color: #00af00\">0</span>]    │         │\n",
       "├────────────────────────┼──────────────────────┼──────────────┼─────────────────────┼─────────┤\n",
       "│ concatenate            │ (<span style=\"color: #00d7ff; text-decoration-color: #00d7ff\">None</span>, <span style=\"color: #00d7ff; text-decoration-color: #00d7ff\">None</span>, <span style=\"color: #00af00; text-decoration-color: #00af00\">768</span>)    │            <span style=\"color: #00af00; text-decoration-color: #00af00\">0</span> │ deberta_v3_backbon… │    <span style=\"font-weight: bold\">-</span>    │\n",
       "│ (<span style=\"color: #0087ff; text-decoration-color: #0087ff\">Concatenate</span>)          │                      │              │ deberta_v3_backbon… │         │\n",
       "├────────────────────────┼──────────────────────┼──────────────┼─────────────────────┼─────────┤\n",
       "│ global_average_poolin… │ (<span style=\"color: #00d7ff; text-decoration-color: #00d7ff\">None</span>, <span style=\"color: #00af00; text-decoration-color: #00af00\">768</span>)          │            <span style=\"color: #00af00; text-decoration-color: #00af00\">0</span> │ concatenate[<span style=\"color: #00af00; text-decoration-color: #00af00\">0</span>][<span style=\"color: #00af00; text-decoration-color: #00af00\">0</span>]   │    <span style=\"font-weight: bold\">-</span>    │\n",
       "│ (<span style=\"color: #0087ff; text-decoration-color: #0087ff\">GlobalAveragePooling…</span> │                      │              │                     │         │\n",
       "├────────────────────────┼──────────────────────┼──────────────┼─────────────────────┼─────────┤\n",
       "│ dropout_12 (<span style=\"color: #0087ff; text-decoration-color: #0087ff\">Dropout</span>)   │ (<span style=\"color: #00d7ff; text-decoration-color: #00d7ff\">None</span>, <span style=\"color: #00af00; text-decoration-color: #00af00\">768</span>)          │            <span style=\"color: #00af00; text-decoration-color: #00af00\">0</span> │ global_average_poo… │    <span style=\"font-weight: bold\">-</span>    │\n",
       "├────────────────────────┼──────────────────────┼──────────────┼─────────────────────┼─────────┤\n",
       "│ dense (<span style=\"color: #0087ff; text-decoration-color: #0087ff\">Dense</span>)          │ (<span style=\"color: #00d7ff; text-decoration-color: #00d7ff\">None</span>, <span style=\"color: #00af00; text-decoration-color: #00af00\">3</span>)            │        <span style=\"color: #00af00; text-decoration-color: #00af00\">2,307</span> │ dropout_12[<span style=\"color: #00af00; text-decoration-color: #00af00\">0</span>][<span style=\"color: #00af00; text-decoration-color: #00af00\">0</span>]    │    <span style=\"color: #00af00; text-decoration-color: #00af00; font-weight: bold\">Y</span>    │\n",
       "└────────────────────────┴──────────────────────┴──────────────┴─────────────────────┴─────────┘\n",
       "</pre>\n"
      ],
      "text/plain": [
       "┏━━━━━━━━━━━━━━━━━━━━━━━━┳━━━━━━━━━━━━━━━━━━━━━━┳━━━━━━━━━━━━━━┳━━━━━━━━━━━━━━━━━━━━━┳━━━━━━━━━┓\n",
       "┃\u001b[1m \u001b[0m\u001b[1mLayer (type)          \u001b[0m\u001b[1m \u001b[0m┃\u001b[1m \u001b[0m\u001b[1mOutput Shape        \u001b[0m\u001b[1m \u001b[0m┃\u001b[1m \u001b[0m\u001b[1m     Param #\u001b[0m\u001b[1m \u001b[0m┃\u001b[1m \u001b[0m\u001b[1mConnected to       \u001b[0m\u001b[1m \u001b[0m┃\u001b[1m \u001b[0m\u001b[1mTraina…\u001b[0m\u001b[1m \u001b[0m┃\n",
       "┡━━━━━━━━━━━━━━━━━━━━━━━━╇━━━━━━━━━━━━━━━━━━━━━━╇━━━━━━━━━━━━━━╇━━━━━━━━━━━━━━━━━━━━━╇━━━━━━━━━┩\n",
       "│ padding_mask           │ (\u001b[38;5;45mNone\u001b[0m, \u001b[38;5;34m2\u001b[0m, \u001b[38;5;45mNone\u001b[0m)      │            \u001b[38;5;34m0\u001b[0m │ -                   │    \u001b[1m-\u001b[0m    │\n",
       "│ (\u001b[38;5;33mInputLayer\u001b[0m)           │                      │              │                     │         │\n",
       "├────────────────────────┼──────────────────────┼──────────────┼─────────────────────┼─────────┤\n",
       "│ token_ids (\u001b[38;5;33mInputLayer\u001b[0m) │ (\u001b[38;5;45mNone\u001b[0m, \u001b[38;5;34m2\u001b[0m, \u001b[38;5;45mNone\u001b[0m)      │            \u001b[38;5;34m0\u001b[0m │ -                   │    \u001b[1m-\u001b[0m    │\n",
       "├────────────────────────┼──────────────────────┼──────────────┼─────────────────────┼─────────┤\n",
       "│ get_item_1 (\u001b[38;5;33mGetItem\u001b[0m)   │ (\u001b[38;5;45mNone\u001b[0m, \u001b[38;5;45mNone\u001b[0m)         │            \u001b[38;5;34m0\u001b[0m │ padding_mask[\u001b[38;5;34m0\u001b[0m][\u001b[38;5;34m0\u001b[0m]  │    \u001b[1m-\u001b[0m    │\n",
       "├────────────────────────┼──────────────────────┼──────────────┼─────────────────────┼─────────┤\n",
       "│ get_item (\u001b[38;5;33mGetItem\u001b[0m)     │ (\u001b[38;5;45mNone\u001b[0m, \u001b[38;5;45mNone\u001b[0m)         │            \u001b[38;5;34m0\u001b[0m │ token_ids[\u001b[38;5;34m0\u001b[0m][\u001b[38;5;34m0\u001b[0m]     │    \u001b[1m-\u001b[0m    │\n",
       "├────────────────────────┼──────────────────────┼──────────────┼─────────────────────┼─────────┤\n",
       "│ get_item_3 (\u001b[38;5;33mGetItem\u001b[0m)   │ (\u001b[38;5;45mNone\u001b[0m, \u001b[38;5;45mNone\u001b[0m)         │            \u001b[38;5;34m0\u001b[0m │ padding_mask[\u001b[38;5;34m0\u001b[0m][\u001b[38;5;34m0\u001b[0m]  │    \u001b[1m-\u001b[0m    │\n",
       "├────────────────────────┼──────────────────────┼──────────────┼─────────────────────┼─────────┤\n",
       "│ get_item_2 (\u001b[38;5;33mGetItem\u001b[0m)   │ (\u001b[38;5;45mNone\u001b[0m, \u001b[38;5;45mNone\u001b[0m)         │            \u001b[38;5;34m0\u001b[0m │ token_ids[\u001b[38;5;34m0\u001b[0m][\u001b[38;5;34m0\u001b[0m]     │    \u001b[1m-\u001b[0m    │\n",
       "├────────────────────────┼──────────────────────┼──────────────┼─────────────────────┼─────────┤\n",
       "│ deberta_v3_backbone    │ (\u001b[38;5;45mNone\u001b[0m, \u001b[38;5;45mNone\u001b[0m, \u001b[38;5;34m384\u001b[0m)    │   \u001b[38;5;34m70,682,112\u001b[0m │ get_item_1[\u001b[38;5;34m0\u001b[0m][\u001b[38;5;34m0\u001b[0m],   │    \u001b[1;38;5;34mY\u001b[0m    │\n",
       "│ (\u001b[38;5;33mDebertaV3Backbone\u001b[0m)    │                      │              │ get_item[\u001b[38;5;34m0\u001b[0m][\u001b[38;5;34m0\u001b[0m],     │         │\n",
       "│                        │                      │              │ get_item_3[\u001b[38;5;34m0\u001b[0m][\u001b[38;5;34m0\u001b[0m],   │         │\n",
       "│                        │                      │              │ get_item_2[\u001b[38;5;34m0\u001b[0m][\u001b[38;5;34m0\u001b[0m]    │         │\n",
       "├────────────────────────┼──────────────────────┼──────────────┼─────────────────────┼─────────┤\n",
       "│ concatenate            │ (\u001b[38;5;45mNone\u001b[0m, \u001b[38;5;45mNone\u001b[0m, \u001b[38;5;34m768\u001b[0m)    │            \u001b[38;5;34m0\u001b[0m │ deberta_v3_backbon… │    \u001b[1m-\u001b[0m    │\n",
       "│ (\u001b[38;5;33mConcatenate\u001b[0m)          │                      │              │ deberta_v3_backbon… │         │\n",
       "├────────────────────────┼──────────────────────┼──────────────┼─────────────────────┼─────────┤\n",
       "│ global_average_poolin… │ (\u001b[38;5;45mNone\u001b[0m, \u001b[38;5;34m768\u001b[0m)          │            \u001b[38;5;34m0\u001b[0m │ concatenate[\u001b[38;5;34m0\u001b[0m][\u001b[38;5;34m0\u001b[0m]   │    \u001b[1m-\u001b[0m    │\n",
       "│ (\u001b[38;5;33mGlobalAveragePooling…\u001b[0m │                      │              │                     │         │\n",
       "├────────────────────────┼──────────────────────┼──────────────┼─────────────────────┼─────────┤\n",
       "│ dropout_12 (\u001b[38;5;33mDropout\u001b[0m)   │ (\u001b[38;5;45mNone\u001b[0m, \u001b[38;5;34m768\u001b[0m)          │            \u001b[38;5;34m0\u001b[0m │ global_average_poo… │    \u001b[1m-\u001b[0m    │\n",
       "├────────────────────────┼──────────────────────┼──────────────┼─────────────────────┼─────────┤\n",
       "│ dense (\u001b[38;5;33mDense\u001b[0m)          │ (\u001b[38;5;45mNone\u001b[0m, \u001b[38;5;34m3\u001b[0m)            │        \u001b[38;5;34m2,307\u001b[0m │ dropout_12[\u001b[38;5;34m0\u001b[0m][\u001b[38;5;34m0\u001b[0m]    │    \u001b[1;38;5;34mY\u001b[0m    │\n",
       "└────────────────────────┴──────────────────────┴──────────────┴─────────────────────┴─────────┘\n"
      ]
     },
     "metadata": {},
     "output_type": "display_data"
    },
    {
     "data": {
      "text/html": [
       "<pre style=\"white-space:pre;overflow-x:auto;line-height:normal;font-family:Menlo,'DejaVu Sans Mono',consolas,'Courier New',monospace\"><span style=\"font-weight: bold\"> Total params: </span><span style=\"color: #00af00; text-decoration-color: #00af00\">70,684,419</span> (269.64 MB)\n",
       "</pre>\n"
      ],
      "text/plain": [
       "\u001b[1m Total params: \u001b[0m\u001b[38;5;34m70,684,419\u001b[0m (269.64 MB)\n"
      ]
     },
     "metadata": {},
     "output_type": "display_data"
    },
    {
     "data": {
      "text/html": [
       "<pre style=\"white-space:pre;overflow-x:auto;line-height:normal;font-family:Menlo,'DejaVu Sans Mono',consolas,'Courier New',monospace\"><span style=\"font-weight: bold\"> Trainable params: </span><span style=\"color: #00af00; text-decoration-color: #00af00\">70,684,419</span> (269.64 MB)\n",
       "</pre>\n"
      ],
      "text/plain": [
       "\u001b[1m Trainable params: \u001b[0m\u001b[38;5;34m70,684,419\u001b[0m (269.64 MB)\n"
      ]
     },
     "metadata": {},
     "output_type": "display_data"
    },
    {
     "data": {
      "text/html": [
       "<pre style=\"white-space:pre;overflow-x:auto;line-height:normal;font-family:Menlo,'DejaVu Sans Mono',consolas,'Courier New',monospace\"><span style=\"font-weight: bold\"> Non-trainable params: </span><span style=\"color: #00af00; text-decoration-color: #00af00\">0</span> (0.00 B)\n",
       "</pre>\n"
      ],
      "text/plain": [
       "\u001b[1m Non-trainable params: \u001b[0m\u001b[38;5;34m0\u001b[0m (0.00 B)\n"
      ]
     },
     "metadata": {},
     "output_type": "display_data"
    },
    {
     "name": "stdout",
     "output_type": "stream",
     "text": [
      "Setting up training callbacks...\n"
     ]
    },
    {
     "data": {
      "image/png": "[encoded data removed]",
      "text/plain": [
       "<Figure size 1000x500 with 1 Axes>"
      ]
     },
     "metadata": {},
     "output_type": "display_data"
    },
    {
     "name": "stdout",
     "output_type": "stream",
     "text": [
      "LR Range: 1.00e-06 to 2.00e-06\n"
     ]
    }
   ],
   "source": [
    "# Model Training Setup\n",
    "print(\"Building model...\")\n",
    "model = build_model()\n",
    "\n",
    "# Display model architecture\n",
    "model.summary(show_trainable=True)\n",
    "\n",
    "# Setup callbacks\n",
    "print(\"Setting up training callbacks...\")\n",
    "\n",
    "# Learning rate scheduler with visualization\n",
    "lr_cb = get_lr_callback(\n",
    "    CFG.batch_size, \n",
    "    mode=CFG.scheduler, \n",
    "    epochs=CFG.epochs, \n",
    "    plot=True\n",
    ")\n",
    "\n",
    "# Model checkpointing to save best weights\n",
    "ckpt_cb = keras.callbacks.ModelCheckpoint(\n",
    "    'best_model.weights.h5',  # Save only weights (more efficient)\n",
    "    monitor='val_loss',       # Monitor validation loss\n",
    "    save_weights_only=True,   # Don't save full model\n",
    "    save_best_only=True,      # Only save when validation improves\n",
    "    mode='min',               # Lower validation loss is better\n",
    "    verbose=1\n",
    ")\n",
    "\n",
    "# Early stopping\n",
    "# early_stop_cb = keras.callbacks.EarlyStopping(\n",
    "#     monitor='val_loss',\n",
    "#     patience=5,\n",
    "#     restore_best_weights=True\n",
    "# )\n",
    "\n",
    "callbacks = [lr_cb, ckpt_cb]"
   ]
  },
  {
   "cell_type": "markdown",
   "id": "b3d6708e",
   "metadata": {
    "papermill": {
     "duration": 0.007792,
     "end_time": "2025-06-02T12:27:11.568893",
     "exception": false,
     "start_time": "2025-06-02T12:27:11.561101",
     "status": "completed"
    },
    "tags": []
   },
   "source": [
    "## Training"
   ]
  },
  {
   "cell_type": "code",
   "execution_count": 23,
   "id": "6778eb49",
   "metadata": {
    "_cell_guid": "8e75c5ad-974f-4a64-8dd1-d301a021fd0f",
    "_uuid": "26808188-051e-4155-9022-4f7a7aaa1840",
    "collapsed": false,
    "execution": {
     "iopub.execute_input": "2025-06-02T12:27:11.586349Z",
     "iopub.status.busy": "2025-06-02T12:27:11.586035Z",
     "iopub.status.idle": "2025-06-02T14:38:57.792686Z",
     "shell.execute_reply": "2025-06-02T14:38:57.791709Z"
    },
    "jupyter": {
     "outputs_hidden": false
    },
    "papermill": {
     "duration": 7906.217665,
     "end_time": "2025-06-02T14:38:57.794813",
     "exception": false,
     "start_time": "2025-06-02T12:27:11.577148",
     "status": "completed"
    },
    "tags": []
   },
   "outputs": [
    {
     "name": "stdout",
     "output_type": "stream",
     "text": [
      "Starting training...\n",
      "Epoch 1/3\n",
      "\u001b[1m5748/5748\u001b[0m \u001b[32m━━━━━━━━━━━━━━━━━━━━\u001b[0m\u001b[37m\u001b[0m \u001b[1m0s\u001b[0m 441ms/step - accuracy: 0.3426 - loss: 1.3043\n",
      "Epoch 1: val_loss improved from inf to 1.10010, saving model to best_model.weights.h5\n",
      "\u001b[1m5748/5748\u001b[0m \u001b[32m━━━━━━━━━━━━━━━━━━━━\u001b[0m\u001b[37m\u001b[0m \u001b[1m2746s\u001b[0m 467ms/step - accuracy: 0.3426 - loss: 1.3043 - val_accuracy: 0.3671 - val_loss: 1.1001 - learning_rate: 1.0000e-06\n",
      "Epoch 2/3\n",
      "\u001b[1m5748/5748\u001b[0m \u001b[32m━━━━━━━━━━━━━━━━━━━━\u001b[0m\u001b[37m\u001b[0m \u001b[1m0s\u001b[0m 422ms/step - accuracy: 0.3517 - loss: 1.1896\n",
      "Epoch 2: val_loss improved from 1.10010 to 1.09465, saving model to best_model.weights.h5\n",
      "\u001b[1m5748/5748\u001b[0m \u001b[32m━━━━━━━━━━━━━━━━━━━━\u001b[0m\u001b[37m\u001b[0m \u001b[1m2611s\u001b[0m 444ms/step - accuracy: 0.3517 - loss: 1.1896 - val_accuracy: 0.3772 - val_loss: 1.0946 - learning_rate: 1.5000e-06\n",
      "Epoch 3/3\n",
      "\u001b[1m5748/5748\u001b[0m \u001b[32m━━━━━━━━━━━━━━━━━━━━\u001b[0m\u001b[37m\u001b[0m \u001b[1m0s\u001b[0m 421ms/step - accuracy: 0.3589 - loss: 1.1615\n",
      "Epoch 3: val_loss improved from 1.09465 to 1.08973, saving model to best_model.weights.h5\n",
      "\u001b[1m5748/5748\u001b[0m \u001b[32m━━━━━━━━━━━━━━━━━━━━\u001b[0m\u001b[37m\u001b[0m \u001b[1m2547s\u001b[0m 443ms/step - accuracy: 0.3589 - loss: 1.1615 - val_accuracy: 0.3880 - val_loss: 1.0897 - learning_rate: 2.0000e-06\n",
      "Training completed!\n"
     ]
    }
   ],
   "source": [
    "# Model Training\n",
    "print(\"Starting training...\")\n",
    "\n",
    "# Train the model\n",
    "history = model.fit( \n",
    "    train_ds,\n",
    "    validation_data=valid_ds,\n",
    "    epochs=CFG.epochs,\n",
    "    callbacks=callbacks,\n",
    "    verbose=1  # Show progress bars\n",
    ")\n",
    "\n",
    "print(\"Training completed!\")"
   ]
  },
  {
   "cell_type": "code",
   "execution_count": 24,
   "id": "45144647",
   "metadata": {
    "_cell_guid": "3d0fcdd3-6875-4711-9001-789f5c65bc64",
    "_uuid": "a1415773-e793-4f36-a1d7-7916bba6622b",
    "collapsed": false,
    "execution": {
     "iopub.execute_input": "2025-06-02T14:38:59.366962Z",
     "iopub.status.busy": "2025-06-02T14:38:59.366661Z",
     "iopub.status.idle": "2025-06-02T14:38:59.804846Z",
     "shell.execute_reply": "2025-06-02T14:38:59.804125Z"
    },
    "jupyter": {
     "outputs_hidden": false
    },
    "papermill": {
     "duration": 1.212894,
     "end_time": "2025-06-02T14:38:59.806815",
     "exception": false,
     "start_time": "2025-06-02T14:38:58.593921",
     "status": "completed"
    },
    "tags": []
   },
   "outputs": [
    {
     "data": {
      "image/png": "[encoded data removed]",
      "text/plain": [
       "<Figure size 1500x500 with 2 Axes>"
      ]
     },
     "metadata": {},
     "output_type": "display_data"
    },
    {
     "name": "stdout",
     "output_type": "stream",
     "text": [
      "\n",
      "Final Training Loss: 1.1600\n",
      "Final Validation Loss: 1.0897\n",
      "Final Training Accuracy: 0.3560\n",
      "Final Validation Accuracy: 0.3880\n"
     ]
    }
   ],
   "source": [
    "# Plot training metrics to understand model performance\n",
    "\n",
    "fig, (ax1, ax2) = plt.subplots(1, 2, figsize=(15, 5))\n",
    "\n",
    "# Plot loss curves\n",
    "ax1.plot(history.history['loss'], label='Training Loss', marker='o')\n",
    "ax1.plot(history.history['val_loss'], label='Validation Loss', marker='s')\n",
    "ax1.set_title('Model Loss Over Time')\n",
    "ax1.set_xlabel('Epoch')\n",
    "ax1.set_ylabel('Loss')\n",
    "ax1.legend()\n",
    "ax1.grid(True)\n",
    "\n",
    "# Plot accuracy curves\n",
    "ax2.plot(history.history['accuracy'], label='Training Accuracy', marker='o')\n",
    "ax2.plot(history.history['val_accuracy'], label='Validation Accuracy', marker='s')\n",
    "ax2.set_title('Model Accuracy Over Time')\n",
    "ax2.set_xlabel('Epoch')\n",
    "ax2.set_ylabel('Accuracy')\n",
    "ax2.legend()\n",
    "ax2.grid(True)\n",
    "\n",
    "plt.tight_layout()\n",
    "plt.show()\n",
    "\n",
    "# Print final metrics\n",
    "final_train_loss = history.history['loss'][-1]\n",
    "final_val_loss = history.history['val_loss'][-1]\n",
    "final_train_acc = history.history['accuracy'][-1]\n",
    "final_val_acc = history.history['val_accuracy'][-1]\n",
    "\n",
    "print(f\"\\nFinal Training Loss: {final_train_loss:.4f}\")\n",
    "print(f\"Final Validation Loss: {final_val_loss:.4f}\")\n",
    "print(f\"Final Training Accuracy: {final_train_acc:.4f}\")\n",
    "print(f\"Final Validation Accuracy: {final_val_acc:.4f}\")"
   ]
  },
  {
   "cell_type": "markdown",
   "id": "83951820",
   "metadata": {
    "papermill": {
     "duration": 0.809911,
     "end_time": "2025-06-02T14:39:01.448551",
     "exception": false,
     "start_time": "2025-06-02T14:39:00.638640",
     "status": "completed"
    },
    "tags": []
   },
   "source": [
    "## Prediction"
   ]
  },
  {
   "cell_type": "code",
   "execution_count": 25,
   "id": "31df9cf8",
   "metadata": {
    "_cell_guid": "d198731c-52ec-4c67-8db4-a1a96d9e0b53",
    "_uuid": "0d3160f6-9658-439d-aad7-744e8f518af7",
    "collapsed": false,
    "execution": {
     "iopub.execute_input": "2025-06-02T14:39:03.067362Z",
     "iopub.status.busy": "2025-06-02T14:39:03.066980Z",
     "iopub.status.idle": "2025-06-02T14:39:17.224747Z",
     "shell.execute_reply": "2025-06-02T14:39:17.224144Z"
    },
    "jupyter": {
     "outputs_hidden": false
    },
    "papermill": {
     "duration": 15.038818,
     "end_time": "2025-06-02T14:39:17.225866",
     "exception": false,
     "start_time": "2025-06-02T14:39:02.187048",
     "status": "completed"
    },
    "tags": []
   },
   "outputs": [
    {
     "name": "stdout",
     "output_type": "stream",
     "text": [
      "Preparing test predictions...\n",
      "Loading best model weights...\n",
      "Generating predictions...\n",
      "\u001b[1m1/1\u001b[0m \u001b[32m━━━━━━━━━━━━━━━━━━━━\u001b[0m\u001b[37m\u001b[0m \u001b[1m11s\u001b[0m 11s/step\n",
      "Predictions shape: (3, 3)\n",
      "Sample predictions (first 5 rows):\n",
      "[[0.2664 0.3188 0.4146]\n",
      " [0.4321 0.339  0.2291]\n",
      " [0.4468 0.2659 0.2878]]\n"
     ]
    }
   ],
   "source": [
    "# Test Set Predictions\n",
    "print(\"Preparing test predictions...\")\n",
    "\n",
    "# Clear memory before inference\n",
    "gc.collect()\n",
    "\n",
    "# Create test dataset (no labels, no shuffling)\n",
    "test_ds = build_dataset(\n",
    "    test_df.options.tolist(), \n",
    "    batch_size=CFG.batch_size,\n",
    "    shuffle=False \n",
    ")\n",
    "\n",
    "# Load the best model weights from training\n",
    "print(\"Loading best model weights...\")\n",
    "model.load_weights('best_model.weights.h5')\n",
    "\n",
    "# Generate predictions\n",
    "print(\"Generating predictions...\")\n",
    "final_preds = model.predict(test_ds, verbose=1)\n",
    "\n",
    "print(f\"Predictions shape: {final_preds.shape}\")\n",
    "print(f\"Sample predictions (first 5 rows):\")\n",
    "print(final_preds[:5])"
   ]
  },
  {
   "cell_type": "markdown",
   "id": "f2bdb0bd",
   "metadata": {
    "papermill": {
     "duration": 0.777715,
     "end_time": "2025-06-02T14:39:18.704033",
     "exception": false,
     "start_time": "2025-06-02T14:39:17.926318",
     "status": "completed"
    },
    "tags": []
   },
   "source": [
    "## Submission"
   ]
  },
  {
   "cell_type": "code",
   "execution_count": 26,
   "id": "7dd10a13",
   "metadata": {
    "_cell_guid": "8797e181-1b2b-40b5-b111-35a92778a4de",
    "_uuid": "11635cdf-5ae4-4c2d-8d49-564db2a6c330",
    "collapsed": false,
    "execution": {
     "iopub.execute_input": "2025-06-02T14:39:20.223456Z",
     "iopub.status.busy": "2025-06-02T14:39:20.223173Z",
     "iopub.status.idle": "2025-06-02T14:39:20.238955Z",
     "shell.execute_reply": "2025-06-02T14:39:20.238194Z"
    },
    "jupyter": {
     "outputs_hidden": false
    },
    "papermill": {
     "duration": 0.807975,
     "end_time": "2025-06-02T14:39:20.240207",
     "exception": false,
     "start_time": "2025-06-02T14:39:19.432232",
     "status": "completed"
    },
    "tags": []
   },
   "outputs": [
    {
     "name": "stdout",
     "output_type": "stream",
     "text": [
      "Probability sums - Min: 0.999512, Max: 1.000977\n"
     ]
    }
   ],
   "source": [
    "# Create submission dataframe\n",
    "sub_df = test_df[[\"id\"]].copy()\n",
    "sub_df[CFG.class_names] = final_preds\n",
    "\n",
    "# Verify probabilities sum to 1 (sanity check)\n",
    "prob_sums = sub_df[CFG.class_names].sum(axis=1)\n",
    "print(f\"Probability sums - Min: {prob_sums.min():.6f}, Max: {prob_sums.max():.6f}\")\n",
    "\n",
    "# Save submission file\n",
    "sub_df.to_csv(\"submission.csv\", index=False)"
   ]
  },
  {
   "cell_type": "markdown",
   "id": "52dc52ed",
   "metadata": {
    "papermill": {
     "duration": 0.785474,
     "end_time": "2025-06-02T14:39:21.727222",
     "exception": false,
     "start_time": "2025-06-02T14:39:20.941748",
     "status": "completed"
    },
    "tags": []
   },
   "source": [
    "## Final Analysis & Insights"
   ]
  },
  {
   "cell_type": "code",
   "execution_count": 27,
   "id": "067d2d84",
   "metadata": {
    "_cell_guid": "ba1a9e78-c9cc-41aa-99e7-851f88a1a53d",
    "_uuid": "4fad5793-b19e-4242-b8a8-810638f32a20",
    "collapsed": false,
    "execution": {
     "iopub.execute_input": "2025-06-02T14:39:23.142446Z",
     "iopub.status.busy": "2025-06-02T14:39:23.142171Z",
     "iopub.status.idle": "2025-06-02T14:39:23.149332Z",
     "shell.execute_reply": "2025-06-02T14:39:23.148460Z"
    },
    "jupyter": {
     "outputs_hidden": false
    },
    "papermill": {
     "duration": 0.716843,
     "end_time": "2025-06-02T14:39:23.150474",
     "exception": false,
     "start_time": "2025-06-02T14:39:22.433631",
     "status": "completed"
    },
    "tags": []
   },
   "outputs": [
    {
     "name": "stdout",
     "output_type": "stream",
     "text": [
      "\n",
      "Predicted class distribution on test set:\n",
      "winner_model_a: 2 (66.7%)\n",
      "winner_tie: 1 (33.3%)\n"
     ]
    }
   ],
   "source": [
    "# Prediction distribution analysis\n",
    "pred_classes = np.argmax(final_preds, axis=1)\n",
    "class_dist = pd.Series(pred_classes).map(CFG.label2name).value_counts()\n",
    "\n",
    "print(\"\\nPredicted class distribution on test set:\")\n",
    "for class_name, count in class_dist.items():\n",
    "    percentage = (count / len(final_preds)) * 100\n",
    "    print(f\"{class_name}: {count} ({percentage:.1f}%)\")\n"
   ]
  },
  {
   "cell_type": "markdown",
   "id": "5a76a619",
   "metadata": {
    "papermill": {
     "duration": 0.773461,
     "end_time": "2025-06-02T14:39:24.702268",
     "exception": false,
     "start_time": "2025-06-02T14:39:23.928807",
     "status": "completed"
    },
    "tags": []
   },
   "source": [
    "## Key Takeaways & Potential Improvements\n",
    "\n",
    "### What Worked Well:\n",
    "1. **DeBERTa-v3 Architecture**: Excellent for text understanding and comparison\n",
    "2. **Response Swapping**: Critical for reducing position bias\n",
    "3. **Memory Optimization**: Mixed precision and gradient accumulation enabled training\n",
    "4. **Learning Rate Schedule**: Cosine annealing with warmup improved convergence\n",
    "\n",
    "### Potential Improvements:\n",
    "1. **Ensemble Methods**: Combine multiple models for better predictions\n",
    "2. **Advanced Augmentation**: Paraphrasing, backtranslation\n",
    "3. **Larger Models**: Try DeBERTa-v3 base/large if compute allows\n",
    "4. **Feature Engineering**: Add response length ratios, readability scores\n",
    "5. **Cross-Validation**: More robust validation strategy\n",
    "6. **Post-Processing**: Calibration or threshold optimization"
   ]
  }
 ],
 "metadata": {
  "kaggle": {
   "accelerator": "nvidiaTeslaT4",
   "dataSources": [
    {
     "databundleVersionId": 9809560,
     "sourceId": 86518,
     "sourceType": "competition"
    },
    {
     "modelId": 2820,
     "modelInstanceId": 4684,
     "sourceId": 6063,
     "sourceType": "modelInstanceVersion"
    }
   ],
   "dockerImageVersionId": 31040,
   "isGpuEnabled": true,
   "isInternetEnabled": false,
   "language": "python",
   "sourceType": "notebook"
  },
  "kernelspec": {
   "display_name": "Python 3",
   "language": "python",
   "name": "python3"
  },
  "language_info": {
   "codemirror_mode": {
    "name": "ipython",
    "version": 3
   },
   "file_extension": ".py",
   "mimetype": "text/x-python",
   "name": "python",
   "nbconvert_exporter": "python",
   "pygments_lexer": "ipython3",
   "version": "3.11.11"
  },
  "papermill": {
   "default_parameters": {},
   "duration": 8035.454523,
   "end_time": "2025-06-02T14:39:28.634656",
   "environment_variables": {},
   "exception": null,
   "input_path": "__notebook__.ipynb",
   "output_path": "__notebook__.ipynb",
   "parameters": {},
   "start_time": "2025-06-02T12:25:33.180133",
   "version": "2.6.0"
  }
 },
 "nbformat": 4,
 "nbformat_minor": 5
}
